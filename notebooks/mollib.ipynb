{
 "cells": [
  {
   "cell_type": "code",
   "execution_count": 1,
   "metadata": {},
   "outputs": [],
   "source": [
    "import pandas as pd\n",
    "import os\n",
    "\n",
    "DATAPATH = \"../data\""
   ]
  },
  {
   "cell_type": "code",
   "execution_count": 2,
   "metadata": {},
   "outputs": [],
   "source": [
    "#read mollib output\n",
    "mollib_10e_dict = {\n",
    "    \"ep2\": pd.read_csv(os.path.join(DATAPATH, \"mollib_10epochs\", \"molecules_02_0.7.txt\"), header = None),\n",
    "    \"ep4\": pd.read_csv(os.path.join(DATAPATH, \"mollib_10epochs\", \"molecules_04_0.7.txt\"), header = None),\n",
    "    \"ep6\": pd.read_csv(os.path.join(DATAPATH, \"mollib_10epochs\", \"molecules_06_0.7.txt\"), header = None),\n",
    "    \"ep8\": pd.read_csv(os.path.join(DATAPATH, \"mollib_10epochs\", \"molecules_08_0.7.txt\"), header = None),\n",
    "    \"ep10\": pd.read_csv(os.path.join(DATAPATH, \"mollib_10epochs\", \"molecules_10_0.7.txt\"), header = None),\n",
    "}\n",
    "for k,v in mollib_10e_dict.items():\n",
    "    v.columns=[\"smiles\"]\n"
   ]
  },
  {
   "cell_type": "code",
   "execution_count": 3,
   "metadata": {},
   "outputs": [
    {
     "name": "stdout",
     "output_type": "stream",
     "text": [
      "360\n",
      "330\n",
      "360\n",
      "322\n",
      "334\n"
     ]
    }
   ],
   "source": [
    "for k,v in mollib_10e_dict.items():\n",
    "    print(len(v))"
   ]
  },
  {
   "cell_type": "code",
   "execution_count": 4,
   "metadata": {},
   "outputs": [],
   "source": [
    "mollib_10e = pd.concat([v for k,v in mollib_10e_dict.items()], ignore_index=True)\n",
    "\n",
    "from rdkit import Chem\n",
    "\n",
    "pattern_triazolopyrazine = Chem.MolFromSmarts(\"*-c1nnc2cncc(-*)n12\")\n",
    "def is_triazolopyrazine(mol):\n",
    "    if mol.HasSubstructMatch(pattern_triazolopyrazine):\n",
    "        return 1\n",
    "    else:\n",
    "        return 0\n",
    "\n",
    "smiles = mollib_10e[\"smiles\"].tolist()\n",
    "mols = [Chem.MolFromSmiles(smi) for smi in smiles]\n",
    "\n",
    "mollib_10e[\"IsTriazoloPyrazine\"] = [is_triazolopyrazine(mol) for mol in (mols)]"
   ]
  },
  {
   "cell_type": "code",
   "execution_count": 5,
   "metadata": {},
   "outputs": [
    {
     "name": "stdout",
     "output_type": "stream",
     "text": [
      "(1508, 2)\n"
     ]
    }
   ],
   "source": [
    "idx = mollib_10e.index[(mollib_10e[\"IsTriazoloPyrazine\"]==0)].tolist()\n",
    "mollib_10e.drop(idx, inplace=True)\n",
    "print(mollib_10e.shape)"
   ]
  },
  {
   "cell_type": "code",
   "execution_count": 6,
   "metadata": {},
   "outputs": [],
   "source": [
    "#load already synthesized molecules and compare with mollib\n",
    "gen_mols = pd.read_csv(os.path.join(DATAPATH, \"data_0.csv\"))\n",
    "real_mols = pd.read_csv(os.path.join(DATAPATH, \"training_all.csv\"))"
   ]
  },
  {
   "cell_type": "code",
   "execution_count": 7,
   "metadata": {},
   "outputs": [
    {
     "name": "stdout",
     "output_type": "stream",
     "text": [
      "420\n",
      "823\n",
      "52\n",
      "771\n"
     ]
    }
   ],
   "source": [
    "gen_smi = gen_mols[\"Smiles\"].tolist()\n",
    "mollib_smi = mollib_10e[\"smiles\"].tolist()\n",
    "real_smi = real_mols[\"smiles\"].tolist()\n",
    "\n",
    "dup_smi = list(set(gen_smi).intersection(mollib_smi))\n",
    "print(len(dup_smi))\n",
    "mollib_new = list(set(mollib_smi).difference(set(gen_smi)))\n",
    "print(len(mollib_new))\n",
    "\n",
    "\n",
    "red_smi = list(set(real_smi).intersection(set(mollib_smi)))\n",
    "print(len(red_smi))\n",
    "mollib_10e_new = list(set(mollib_new).difference(set(real_smi)))\n",
    "print(len(mollib_10e_new))\n"
   ]
  },
  {
   "cell_type": "code",
   "execution_count": 9,
   "metadata": {},
   "outputs": [],
   "source": [
    "mollib_data = pd.DataFrame(mollib_10e_new, columns=[\"smiles\"])\n",
    "mollib_data.to_csv(os.path.join(DATAPATH, \"mollib_10e.csv\"), index=False)"
   ]
  },
  {
   "cell_type": "code",
   "execution_count": null,
   "metadata": {},
   "outputs": [],
   "source": []
  }
 ],
 "metadata": {
  "interpreter": {
   "hash": "e46e9dc16f0fb6ad18b4e5af2619d756acb959309a69c05b1a9bc8fb9da17bf9"
  },
  "kernelspec": {
   "display_name": "Python 3.7.10 ('malariaOSM')",
   "language": "python",
   "name": "python3"
  },
  "language_info": {
   "codemirror_mode": {
    "name": "ipython",
    "version": 3
   },
   "file_extension": ".py",
   "mimetype": "text/x-python",
   "name": "python",
   "nbconvert_exporter": "python",
   "pygments_lexer": "ipython3",
   "version": "3.7.10"
  },
  "orig_nbformat": 4
 },
 "nbformat": 4,
 "nbformat_minor": 2
}
