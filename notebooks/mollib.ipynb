{
 "cells": [
  {
   "cell_type": "code",
   "execution_count": 1,
   "metadata": {},
   "outputs": [],
   "source": [
    "import pandas as pd\n",
    "import os\n",
    "from rdkit import Chem\n",
    "\n",
    "pattern_triazolopyrazine = Chem.MolFromSmarts(\"*-c1nnc2cncc(-*)n12\")\n",
    "def is_triazolopyrazine(mol):\n",
    "    if mol.HasSubstructMatch(pattern_triazolopyrazine):\n",
    "        return 1\n",
    "    else:\n",
    "        return 0\n",
    "\n",
    "DATAPATH = \"../data\""
   ]
  },
  {
   "cell_type": "code",
   "execution_count": 2,
   "metadata": {},
   "outputs": [],
   "source": [
    "#load already synthesized molecules and compare with mollib\n",
    "gen_mols = pd.read_csv(os.path.join(DATAPATH, \"data_0.csv\"))\n",
    "real_mols = pd.read_csv(os.path.join(DATAPATH, \"training_all.csv\"))\n",
    "gen_smi = gen_mols[\"Smiles\"].tolist()\n",
    "real_smi = real_mols[\"smiles\"].tolist()"
   ]
  },
  {
   "cell_type": "code",
   "execution_count": 11,
   "metadata": {},
   "outputs": [
    {
     "name": "stdout",
     "output_type": "stream",
     "text": [
      "339\n",
      "325\n",
      "345\n",
      "327\n"
     ]
    }
   ],
   "source": [
    "#read mollib output\n",
    "mollib_40e_dict = {\n",
    "    \"ep10\": pd.read_csv(os.path.join(DATAPATH, \"mollib_40epochs\", \"molecules_10_0.7.txt\"), header = None),\n",
    "    \"ep20\": pd.read_csv(os.path.join(DATAPATH, \"mollib_40epochs\", \"molecules_20_0.7.txt\"), header = None),\n",
    "    \"ep30\": pd.read_csv(os.path.join(DATAPATH, \"mollib_40epochs\", \"molecules_30_0.7.txt\"), header = None),\n",
    "    \"ep40\": pd.read_csv(os.path.join(DATAPATH, \"mollib_40epochs\", \"molecules_40_0.7.txt\"), header = None),\n",
    "    }\n",
    "for k,v in mollib_40e_dict.items():\n",
    "    v.columns=[\"smiles\"]\n",
    "for k,v in mollib_40e_dict.items():\n",
    "    print(len(v))"
   ]
  },
  {
   "cell_type": "code",
   "execution_count": 12,
   "metadata": {},
   "outputs": [
    {
     "name": "stdout",
     "output_type": "stream",
     "text": [
      "(1214, 2)\n"
     ]
    }
   ],
   "source": [
    "mollib_40e = pd.concat([v for k,v in mollib_40e_dict.items()], ignore_index=True)\n",
    "smiles = mollib_40e[\"smiles\"].tolist()\n",
    "mols = [Chem.MolFromSmiles(smi) for smi in smiles]\n",
    "mollib_40e[\"IsTriazoloPyrazine\"] = [is_triazolopyrazine(mol) for mol in (mols)]\n",
    "idx = mollib_40e.index[(mollib_40e[\"IsTriazoloPyrazine\"]==0)].tolist()\n",
    "mollib_40e.drop(idx, inplace=True)\n",
    "print(mollib_40e.shape)"
   ]
  },
  {
   "cell_type": "code",
   "execution_count": 13,
   "metadata": {},
   "outputs": [
    {
     "name": "stdout",
     "output_type": "stream",
     "text": [
      "274\n",
      "759\n",
      "46\n",
      "713\n",
      "683\n"
     ]
    }
   ],
   "source": [
    "mollib_40e_smi = mollib_40e[\"smiles\"].tolist()\n",
    "\n",
    "dup_smi = list(set(gen_smi).intersection(mollib_40e_smi))\n",
    "print(len(dup_smi))\n",
    "mollib_new = list(set(mollib_40e_smi).difference(set(gen_smi)))\n",
    "print(len(mollib_new))\n",
    "red_smi = list(set(real_smi).intersection(set(mollib_40e_smi)))\n",
    "print(len(red_smi))\n",
    "mollib_40e_new = list(set(mollib_new).difference(set(real_smi)))\n",
    "print(len(mollib_40e_new))\n",
    "mollib_40e_new = list(set(mollib_40e_new).difference(set(mollib_10e_new)))\n",
    "print(len(mollib_40e_new))\n",
    "\n",
    "mollib_data = pd.DataFrame(mollib_40e_new, columns=[\"smiles\"])\n",
    "mollib_data.to_csv(os.path.join(DATAPATH, \"mollib_40e.csv\"), index=False)"
   ]
  }
 ],
 "metadata": {
  "interpreter": {
   "hash": "e46e9dc16f0fb6ad18b4e5af2619d756acb959309a69c05b1a9bc8fb9da17bf9"
  },
  "kernelspec": {
   "display_name": "Python 3.7.10 ('malariaOSM')",
   "language": "python",
   "name": "python3"
  },
  "language_info": {
   "codemirror_mode": {
    "name": "ipython",
    "version": 3
   },
   "file_extension": ".py",
   "mimetype": "text/x-python",
   "name": "python",
   "nbconvert_exporter": "python",
   "pygments_lexer": "ipython3",
   "version": "3.7.10"
  },
  "orig_nbformat": 4
 },
 "nbformat": 4,
 "nbformat_minor": 2
}
