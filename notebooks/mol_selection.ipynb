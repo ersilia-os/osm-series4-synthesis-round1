{
 "cells": [
  {
   "cell_type": "code",
   "execution_count": 1,
   "metadata": {},
   "outputs": [],
   "source": [
    "import pandas as pd\n",
    "import os\n",
    "\n",
    "DATAPATH = \"../data\""
   ]
  },
  {
   "cell_type": "code",
   "execution_count": 3,
   "metadata": {},
   "outputs": [],
   "source": [
    "mollib_25 = pd.read_csv(os.path.join(DATAPATH, \"zairachem_outputs\", \"output_mollib_40e_2.5.csv\"))\n",
    "mollib_1 = pd.read_csv(os.path.join(DATAPATH, \"zairachem_outputs\", \"output_mollib_40e_1.csv\"))\n",
    "\n",
    "data6_25 = pd.read_csv(os.path.join(DATAPATH, \"zairachem_outputs\", \"output_data6_2.5.csv\"))\n",
    "data6_1 = pd.read_csv(os.path.join(DATAPATH, \"zairachem_outputs\", \"output_data6_1.csv\"))\n",
    "\n",
    "eosi90_25 = pd.read_csv(os.path.join(DATAPATH, \"zairachem_outputs\", \"output_eosi_s4_candidates_90_2.5.csv\"))\n",
    "#eosi90_1 = pd.read_csv(os.path.join(DATAPATH, \"zairachem_outputs\", \"output_eosi_s4_candidates_90_1.csv\"))\n"
   ]
  },
  {
   "cell_type": "code",
   "execution_count": 13,
   "metadata": {},
   "outputs": [
    {
     "name": "stdout",
     "output_type": "stream",
     "text": [
      "8952\n",
      "1920\n",
      "388\n",
      "90\n"
     ]
    },
    {
     "name": "stderr",
     "output_type": "stream",
     "text": [
      "C:\\Users\\Gemma\\Anaconda3\\envs\\malariaOSM\\lib\\site-packages\\ipykernel_launcher.py:4: UserWarning: Boolean Series key will be reindexed to match DataFrame index.\n",
      "  after removing the cwd from sys.path.\n",
      "C:\\Users\\Gemma\\Anaconda3\\envs\\malariaOSM\\lib\\site-packages\\ipykernel_launcher.py:5: UserWarning: Boolean Series key will be reindexed to match DataFrame index.\n",
      "  \"\"\"\n"
     ]
    }
   ],
   "source": [
    "#check different thresholds\n",
    "print(len(data6_25[data6_25[\"clf_ex1_bin\"]==1]))\n",
    "print(len(data6_1[data6_1[\"clf_ex1_bin\"]==1]))\n",
    "print(len(mollib_25[data6_25[\"clf_ex1_bin\"]==1]))\n",
    "print(len(mollib_1[data6_1[\"clf_ex1_bin\"]==1]))"
   ]
  },
  {
   "cell_type": "code",
   "execution_count": 17,
   "metadata": {},
   "outputs": [
    {
     "name": "stdout",
     "output_type": "stream",
     "text": [
      "1118\n",
      "202\n"
     ]
    }
   ],
   "source": [
    "#check both clf and regression coincide\n",
    "print(len(data6_1[(data6_1[\"clf_ex1_bin\"]==1) & (data6_1[\"reg_raw\"]<=1)]))\n",
    "print(len(mollib_1[(mollib_1[\"clf_ex1_bin\"]==1) & (mollib_1[\"reg_raw\"]<=1)]))"
   ]
  },
  {
   "cell_type": "code",
   "execution_count": 35,
   "metadata": {},
   "outputs": [],
   "source": [
    "#delete molecules that are predicted inactive with cut off 2.5 but active with cut off 1\n",
    "data6_25_actives = data6_25[(data6_25[\"clf_ex1_bin\"]==1) & (data6_25[\"reg_raw\"]<=2.5)]\n",
    "data6_1_actives = data6_1[(data6_1[\"clf_ex1_bin\"]==1) & (data6_1[\"reg_raw\"]<=1)]\n",
    "data6_1_actives.reset_index(inplace=True)\n",
    "mollib_25_actives = mollib_25[(mollib_25[\"clf_ex1_bin\"]==1) & (mollib_25[\"reg_raw\"]<=2.5)]\n",
    "mollib_1_actives = mollib_1[(mollib_1[\"clf_ex1_bin\"]==1) & (mollib_1[\"reg_raw\"]<=1)]\n",
    "mollib_1_actives.reset_index(inplace=True)\n"
   ]
  },
  {
   "cell_type": "code",
   "execution_count": 36,
   "metadata": {},
   "outputs": [
    {
     "name": "stdout",
     "output_type": "stream",
     "text": [
      "1118\n",
      "1094\n"
     ]
    },
    {
     "name": "stderr",
     "output_type": "stream",
     "text": [
      "C:\\Users\\Gemma\\Anaconda3\\envs\\malariaOSM\\lib\\site-packages\\pandas\\core\\frame.py:4315: SettingWithCopyWarning: \n",
      "A value is trying to be set on a copy of a slice from a DataFrame\n",
      "\n",
      "See the caveats in the documentation: https://pandas.pydata.org/pandas-docs/stable/user_guide/indexing.html#returning-a-view-versus-a-copy\n",
      "  errors=errors,\n"
     ]
    }
   ],
   "source": [
    "data6_25_smi = data6_25_actives[\"smiles\"].tolist()\n",
    "data6_1_smi = data6_1_actives[\"smiles\"].tolist()\n",
    "\n",
    "idx = []\n",
    "for i,smi in enumerate(data6_1_smi):\n",
    "    if smi not in data6_25_smi:\n",
    "        idx += [i]\n",
    "\n",
    "print(len(data6_1_actives))       \n",
    "data6_1_actives.drop(index=idx, axis = 0, inplace=True)\n",
    "print(len(data6_1_actives))"
   ]
  },
  {
   "cell_type": "code",
   "execution_count": 37,
   "metadata": {},
   "outputs": [
    {
     "name": "stdout",
     "output_type": "stream",
     "text": [
      "202\n",
      "0\n"
     ]
    }
   ],
   "source": [
    "mollib_25_smi = mollib_25_actives[\"smiles\"].tolist()\n",
    "mollib_1_smi = mollib_1_actives[\"smiles\"].tolist()\n",
    "\n",
    "idx = []\n",
    "for i,smi in enumerate(mollib_1_smi):\n",
    "    if smi not in mollib_25_smi:\n",
    "        idx += [i]\n",
    "\n",
    "print(len(mollib_1_actives))       \n",
    "mollib_1_actives.drop(index=idx, axis = 0, inplace=True)\n",
    "print(len(mollib_1_actives))"
   ]
  },
  {
   "cell_type": "code",
   "execution_count": null,
   "metadata": {},
   "outputs": [],
   "source": []
  }
 ],
 "metadata": {
  "interpreter": {
   "hash": "e46e9dc16f0fb6ad18b4e5af2619d756acb959309a69c05b1a9bc8fb9da17bf9"
  },
  "kernelspec": {
   "display_name": "Python 3.7.10 ('malariaOSM')",
   "language": "python",
   "name": "python3"
  },
  "language_info": {
   "codemirror_mode": {
    "name": "ipython",
    "version": 3
   },
   "file_extension": ".py",
   "mimetype": "text/x-python",
   "name": "python",
   "nbconvert_exporter": "python",
   "pygments_lexer": "ipython3",
   "version": "3.7.10"
  },
  "orig_nbformat": 4
 },
 "nbformat": 4,
 "nbformat_minor": 2
}
