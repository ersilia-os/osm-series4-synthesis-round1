{
 "cells": [
  {
   "cell_type": "code",
   "execution_count": 1,
   "metadata": {},
   "outputs": [],
   "source": [
    "import pandas as pd\n",
    "import os\n",
    "import matplotlib.pyplot as plt\n",
    "\n",
    "DATAPATH = \"../data\""
   ]
  },
  {
   "cell_type": "code",
   "execution_count": 2,
   "metadata": {},
   "outputs": [],
   "source": [
    "mollib_25 = pd.read_csv(os.path.join(DATAPATH, \"zairachem_outputs\", \"output_mollib_40e_2.5.csv\"))\n",
    "mollib_1 = pd.read_csv(os.path.join(DATAPATH, \"zairachem_outputs\", \"output_mollib_40e_1.csv\"))\n",
    "\n",
    "data6_25 = pd.read_csv(os.path.join(DATAPATH, \"zairachem_outputs\", \"output_data6_2.5.csv\"))\n",
    "data6_1 = pd.read_csv(os.path.join(DATAPATH, \"zairachem_outputs\", \"output_data6_1.csv\"))\n",
    "\n",
    "eosi90_25 = pd.read_csv(os.path.join(DATAPATH, \"zairachem_outputs\", \"output_eosi_s4_candidates_90_2.5.csv\"))\n",
    "eosi90_1 = pd.read_csv(os.path.join(DATAPATH, \"zairachem_outputs\", \"output_eosi_s4_candidates_90_1.csv\"))\n"
   ]
  },
  {
   "cell_type": "code",
   "execution_count": 3,
   "metadata": {},
   "outputs": [
    {
     "name": "stdout",
     "output_type": "stream",
     "text": [
      "8952\n",
      "1920\n",
      "552\n",
      "274\n",
      "87\n",
      "41\n"
     ]
    }
   ],
   "source": [
    "#check different thresholds\n",
    "print(len(data6_25[data6_25[\"clf_ex1_bin\"]==1]))\n",
    "print(len(data6_1[data6_1[\"clf_ex1_bin\"]==1]))\n",
    "print(len(mollib_25[mollib_25[\"clf_ex1_bin\"]==1]))\n",
    "print(len(mollib_1[mollib_1[\"clf_ex1_bin\"]==1]))\n",
    "print(len(eosi90_25[eosi90_25[\"clf_ex1_bin\"]==1]))\n",
    "print(len(eosi90_1[eosi90_1[\"clf_ex1_bin\"]==1]))"
   ]
  },
  {
   "cell_type": "code",
   "execution_count": 4,
   "metadata": {},
   "outputs": [
    {
     "data": {
      "text/plain": [
       "<matplotlib.collections.PathCollection at 0x1e7627d4f88>"
      ]
     },
     "execution_count": 4,
     "metadata": {},
     "output_type": "execute_result"
    },
    {
     "data": {
      "image/png": "[encoded data removed]",
      "text/plain": [
       "<Figure size 432x288 with 1 Axes>"
      ]
     },
     "metadata": {
      "needs_background": "light"
     },
     "output_type": "display_data"
    }
   ],
   "source": [
    "#check regression values from both models\n",
    "mollib_25_reg = mollib_25[\"reg_raw\"].tolist()\n",
    "mollib_1_reg = mollib_1[\"reg_raw\"].tolist()\n",
    "\n",
    "plt.scatter(mollib_25_reg, mollib_1_reg)"
   ]
  },
  {
   "cell_type": "code",
   "execution_count": 5,
   "metadata": {},
   "outputs": [],
   "source": [
    "#delete molecules that are predicted inactive with cut off 2.5 but active with cut off 1\n",
    "data6_25_actives = data6_25[(data6_25[\"clf_ex1_bin\"]==1) & (data6_25[\"reg_raw\"]<=2.5)]\n",
    "data6_1_actives = data6_1[(data6_1[\"clf_ex1_bin\"]==1) & (data6_1[\"reg_raw\"]<=1)]\n",
    "data6_1_actives.reset_index(inplace=True)\n",
    "\n",
    "mollib_25_actives = mollib_25[(mollib_25[\"clf_ex1_bin\"]==1) & (mollib_25[\"reg_raw\"]<=2.5)]\n",
    "mollib_1_actives = mollib_1[(mollib_1[\"clf_ex1_bin\"]==1) & (mollib_1[\"reg_raw\"]<=1)]\n",
    "mollib_1_actives.reset_index(inplace=True)\n",
    "\n",
    "eosi90_25_actives = eosi90_25[(eosi90_25[\"clf_ex1_bin\"]==1) & (eosi90_25[\"reg_raw\"]<=2.5)]\n",
    "eosi90_1_actives = eosi90_1[(eosi90_1[\"clf_ex1_bin\"]==1) & (eosi90_1[\"reg_raw\"]<=1)]\n",
    "eosi90_1_actives.reset_index(inplace=True)\n"
   ]
  },
  {
   "cell_type": "code",
   "execution_count": 6,
   "metadata": {},
   "outputs": [
    {
     "name": "stdout",
     "output_type": "stream",
     "text": [
      "1118\n",
      "1094\n"
     ]
    },
    {
     "name": "stderr",
     "output_type": "stream",
     "text": [
      "C:\\Users\\Gemma\\Anaconda3\\envs\\malariaOSM\\lib\\site-packages\\pandas\\core\\frame.py:4315: SettingWithCopyWarning: \n",
      "A value is trying to be set on a copy of a slice from a DataFrame\n",
      "\n",
      "See the caveats in the documentation: https://pandas.pydata.org/pandas-docs/stable/user_guide/indexing.html#returning-a-view-versus-a-copy\n",
      "  errors=errors,\n"
     ]
    }
   ],
   "source": [
    "data6_25_smi = data6_25_actives[\"smiles\"].tolist()\n",
    "data6_1_smi = data6_1_actives[\"smiles\"].tolist()\n",
    "\n",
    "idx = []\n",
    "for i,smi in enumerate(data6_1_smi):\n",
    "    if smi not in data6_25_smi:\n",
    "        idx += [i]\n",
    "\n",
    "print(len(data6_1_actives))       \n",
    "data6_1_actives.drop(index=idx, axis = 0, inplace=True)\n",
    "print(len(data6_1_actives))"
   ]
  },
  {
   "cell_type": "code",
   "execution_count": 7,
   "metadata": {},
   "outputs": [
    {
     "name": "stdout",
     "output_type": "stream",
     "text": [
      "202\n",
      "201\n"
     ]
    }
   ],
   "source": [
    "mollib_25_smi = mollib_25_actives[\"smiles\"].tolist()\n",
    "mollib_1_smi = mollib_1_actives[\"smiles\"].tolist()\n",
    "\n",
    "idx = []\n",
    "for i,smi in enumerate(mollib_1_smi):\n",
    "    if smi not in mollib_25_smi:\n",
    "        idx += [i]\n",
    "\n",
    "print(len(mollib_1_actives))       \n",
    "mollib_1_actives.drop(index=idx, axis = 0, inplace=True)\n",
    "print(len(mollib_1_actives))"
   ]
  },
  {
   "cell_type": "code",
   "execution_count": 8,
   "metadata": {},
   "outputs": [
    {
     "name": "stdout",
     "output_type": "stream",
     "text": [
      "35\n",
      "35\n"
     ]
    }
   ],
   "source": [
    "eosi90_25_smi = eosi90_25_actives[\"smiles\"].tolist()\n",
    "eosi90_1_smi = eosi90_1_actives[\"smiles\"].tolist()\n",
    "\n",
    "idx = []\n",
    "for i,smi in enumerate(eosi90_1_smi):\n",
    "    if smi not in eosi90_25_smi:\n",
    "        idx += [i]\n",
    "\n",
    "print(len(eosi90_1_actives))       \n",
    "eosi90_1_actives.drop(index=idx, axis = 0, inplace=True)\n",
    "print(len(eosi90_1_actives))"
   ]
  },
  {
   "cell_type": "code",
   "execution_count": 34,
   "metadata": {},
   "outputs": [
    {
     "name": "stderr",
     "output_type": "stream",
     "text": [
      "C:\\Users\\Gemma\\Anaconda3\\envs\\malariaOSM\\lib\\site-packages\\pandas\\core\\frame.py:4449: SettingWithCopyWarning: \n",
      "A value is trying to be set on a copy of a slice from a DataFrame\n",
      "\n",
      "See the caveats in the documentation: https://pandas.pydata.org/pandas-docs/stable/user_guide/indexing.html#returning-a-view-versus-a-copy\n",
      "  errors=errors,\n"
     ]
    }
   ],
   "source": [
    "data6 = data6_1_actives[[\"compound_id\", \"smiles\", \"clf_ex1\"]]\n",
    "data6.rename(columns={\"clf_ex1\": \"proba1_1.0uM\"}, inplace=True)\n",
    "data6 = pd.merge(data6, data6_25_actives[[\"smiles\", \"clf_ex1\", \"reg_raw\"]], on = \"smiles\", how=\"left\")\n",
    "data6.rename(columns={\"clf_ex1\":\"proba1_2.5uM\", \"reg_raw\": \"IC50_pred\"}, inplace=True)"
   ]
  },
  {
   "cell_type": "code",
   "execution_count": 35,
   "metadata": {},
   "outputs": [],
   "source": [
    "mollib = mollib_1_actives[[\"compound_id\", \"smiles\", \"clf_ex1\"]]\n",
    "mollib.rename(columns={\"clf_ex1\": \"proba1_1.0uM\"}, inplace=True)\n",
    "mollib = pd.merge(mollib, mollib_25_actives[[\"smiles\", \"clf_ex1\", \"reg_raw\"]], on = \"smiles\", how=\"left\")\n",
    "mollib.rename(columns={\"clf_ex1\":\"proba1_2.5uM\", \"reg_raw\": \"IC50_pred\"}, inplace=True)"
   ]
  },
  {
   "cell_type": "code",
   "execution_count": 36,
   "metadata": {},
   "outputs": [],
   "source": [
    "long_sel = pd.concat([data6, mollib])\n",
    "long_sel.drop(columns=\"compound_id\", inplace=True)\n",
    "long_sel.to_csv(os.path.join(DATAPATH, \"High_actives_all.csv\"), index=False)"
   ]
  },
  {
   "cell_type": "code",
   "execution_count": 37,
   "metadata": {},
   "outputs": [],
   "source": [
    "eosi90 = eosi90_1_actives[[\"compound_id\", \"smiles\", \"clf_ex1\"]]\n",
    "eosi90.rename(columns={\"clf_ex1\": \"proba1_1.0uM\"}, inplace=True)\n",
    "eosi90 = pd.merge(eosi90, eosi90_25_actives[[\"smiles\", \"clf_ex1\", \"reg_raw\"]], on = \"smiles\", how=\"left\")\n",
    "eosi90.rename(columns={\"clf_ex1\":\"proba1_2.5uM\", \"reg_raw\": \"IC50_pred\"}, inplace=True)\n",
    "eosi90.to_csv(os.path.join(DATAPATH, \"high_actives_selection.csv\"), index=False)"
   ]
  },
  {
   "cell_type": "code",
   "execution_count": 16,
   "metadata": {},
   "outputs": [],
   "source": [
    "#molecular visualization\n",
    "\n",
    "df = pd.read_csv(os.path.join(DATAPATH, \"high_actives_selection.csv\"))\n",
    "df.rename(columns = {\"smiles\":\"smiles_col\"})\n",
    "df[\"IC50_pred\"] = df[\"IC50_pred\"].round(decimals=3)"
   ]
  },
  {
   "cell_type": "code",
   "execution_count": 21,
   "metadata": {},
   "outputs": [
    {
     "name": "stdout",
     "output_type": "stream",
     "text": [
      "Help on function to_table in module mols2grid.molgrid:\n",
      "\n",
      "to_table(self, subset=None, tooltip=None, n_cols=6, cell_width=160, border='1px solid #cccccc', gap=0, fontsize='12pt', fontfamily=\"'DejaVu', sans-serif\", textalign='center', tooltip_fmt='<strong>{key}</strong>: {value}', tooltip_trigger='click hover', tooltip_placement='bottom', hover_color='#e7e7e7', style=None, transform=None)\n",
      "    Returns the HTML document for the \"table\" template\n",
      "    \n",
      "    Parameters\n",
      "    ----------\n",
      "    subset : list or None\n",
      "        Columns to be displayed in each cell of the grid. Each\n",
      "        column's value will be displayed from top to bottom in the same\n",
      "        order given here. Use `\"img\"` for the image of the molecule.\n",
      "        Default: all columns (with \"img\" in first position)\n",
      "    tooltip : list or None\n",
      "        Columns to be displayed as a tooltip when hovering/clicking on the\n",
      "        image of a cell. Use `None` for no tooltip.\n",
      "    tooltip_fmt : str\n",
      "        Format string of each key/value pair in the tooltip\n",
      "    tooltip_trigger : str\n",
      "        Sequence of triggers for the tooltip: (click, hover, focus)\n",
      "    tooltip_placement : str\n",
      "        Position of the tooltip: auto, top, bottom, left, right\n",
      "    n_cols : int\n",
      "        Number of columns in the table\n",
      "    border : str\n",
      "        Styling of the border around each cell (CSS)\n",
      "    gap : int or str\n",
      "        Size of the margin around each cell (CSS)\n",
      "    fontsize : str\n",
      "        Font size of the text displayed in each cell (CSS)\n",
      "    fontfamily : str\n",
      "        Font used for the text in each cell (CSS)\n",
      "    textalign : str\n",
      "        Alignment of the text in each cell (CSS)\n",
      "    hover_color : str\n",
      "        Background color when hovering a cell (CSS)\n",
      "    style : dict or None\n",
      "        CSS styling applied to specific items in all cells. The dict must follow a\n",
      "        `key: function` structure where the key must correspond to one of\n",
      "        the columns in `subset` or `tooltip`. The function takes the item's value as\n",
      "        input, and outputs a valid CSS styling, for example\n",
      "        `style={\"Solubility\": lambda x: \"color: red\" if x < -5 else \"color: black\"}`\n",
      "        if you want to color the text corresponding to the \"Solubility\"\n",
      "        column in your dataframe\n",
      "    transform : dict or None\n",
      "        Functions applied to specific items in all cells. The dict must follow a\n",
      "        `key: function` structure where the key must correspond to one of the columns\n",
      "        in `subset`. The function takes the item's value as input and transforms it,\n",
      "        for example:\n",
      "        `transform={\"Solubility\": lambda x: f\"{x:.2f}\",\n",
      "                \"Melting point\": lambda x: f\"MP: {5/9*(x-32):.1f}°C\"}`\n",
      "        will round the solubility to 2 decimals, and display the melting point in\n",
      "        Celsius instead of Fahrenheit with a single digit precision and some text\n",
      "        before (MP) and after (°C) the value. These transformations only affect\n",
      "        columns in `subset` (not `tooltip`) and are applied independantly from `style`\n",
      "\n"
     ]
    }
   ],
   "source": [
    "help(mols2grid.MolGrid.to_table)"
   ]
  },
  {
   "cell_type": "code",
   "execution_count": 29,
   "metadata": {},
   "outputs": [],
   "source": [
    "import mols2grid\n",
    "\n",
    "\n",
    "grid = mols2grid.MolGrid(df, mapping={\"smiles\":\"SMILES\"}, subset=[\"compound_id\", \"img\", \"IC50_pred\", tooltip=[\"SMILES\"]])\n",
    "#mols2grid.save(grid, output=os.path.join(DATAPATH, \"selection.html\"))"
   ]
  },
  {
   "cell_type": "code",
   "execution_count": 33,
   "metadata": {},
   "outputs": [],
   "source": [
    "grid.save(\"selection.html\", subset=[\"compound_id\", \"img\", \"IC50_pred\"], tooltip=[\"SMILES\"])"
   ]
  },
  {
   "cell_type": "code",
   "execution_count": null,
   "metadata": {},
   "outputs": [],
   "source": []
  }
 ],
 "metadata": {
  "interpreter": {
   "hash": "e46e9dc16f0fb6ad18b4e5af2619d756acb959309a69c05b1a9bc8fb9da17bf9"
  },
  "kernelspec": {
   "display_name": "Python 3.7.10 ('malariaOSM')",
   "language": "python",
   "name": "python3"
  },
  "language_info": {
   "codemirror_mode": {
    "name": "ipython",
    "version": 3
   },
   "file_extension": ".py",
   "mimetype": "text/x-python",
   "name": "python",
   "nbconvert_exporter": "python",
   "pygments_lexer": "ipython3",
   "version": "3.7.10"
  },
  "orig_nbformat": 4
 },
 "nbformat": 4,
 "nbformat_minor": 2
}
