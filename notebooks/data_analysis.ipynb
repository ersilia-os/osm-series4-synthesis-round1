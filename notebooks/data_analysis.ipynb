{
 "cells": [
  {
   "cell_type": "code",
   "execution_count": 1,
   "metadata": {},
   "outputs": [],
   "source": [
    "import matplotlib.pyplot as plt\n",
    "import pandas as pd\n",
    "import os\n",
    "from sklearn import metrics"
   ]
  },
  {
   "cell_type": "code",
   "execution_count": 2,
   "metadata": {},
   "outputs": [],
   "source": [
    "DATA = \"../data\""
   ]
  },
  {
   "cell_type": "code",
   "execution_count": 59,
   "metadata": {},
   "outputs": [],
   "source": [
    "df1 = pd.read_csv(os.path.join(DATA, \"competition_synthesis.csv\"))\n",
    "df2 = pd.read_csv(os.path.join(DATA, \"competition_test.csv\"))\n",
    "df3 = pd.read_csv(os.path.join(DATA, \"evt_synthesis.csv\"))\n",
    "test = pd.concat([df1, df2, df3])\n",
    "test.reset_index(inplace=True, drop=True)"
   ]
  },
  {
   "cell_type": "code",
   "execution_count": 60,
   "metadata": {},
   "outputs": [],
   "source": [
    "bin_activity = []\n",
    "\n",
    "for i in test[\"activity\"].tolist():\n",
    "    if i <= 2.5:\n",
    "        bin_activity.append(1)\n",
    "    else:\n",
    "        bin_activity.append(0)\n",
    "\n",
    "test[\"bin_activity\"] = bin_activity"
   ]
  },
  {
   "cell_type": "code",
   "execution_count": 61,
   "metadata": {},
   "outputs": [],
   "source": [
    "df1 = pd.read_csv(os.path.join(DATA, \"zairachem_outputs\", \"output_competition_synthesis.csv\"))\n",
    "df2 = pd.read_csv(os.path.join(DATA, \"zairachem_outputs\", \"output_competition_test.csv\"))\n",
    "df3 = pd.read_csv(os.path.join(DATA, \"zairachem_outputs\", \"output_evt_synthesis.csv\"))\n",
    "out = pd.concat([df1, df2, df3])\n",
    "out.reset_index(inplace=True, drop=True)\n",
    "out.rename(columns={\"compound_id\":\"osm\"}, inplace=True)"
   ]
  },
  {
   "cell_type": "code",
   "execution_count": 62,
   "metadata": {},
   "outputs": [],
   "source": [
    "val = pd.merge(test, out, on = [\"osm\", \"smiles\"])"
   ]
  },
  {
   "cell_type": "code",
   "execution_count": 64,
   "metadata": {},
   "outputs": [
    {
     "data": {
      "text/plain": [
       "Index(['osm', 'smiles', 'activity', 'bin_activity', 'reg_qnt', 'clf_ex1',\n",
       "       'clf_ex1_bin', 'reg_raw'],\n",
       "      dtype='object')"
      ]
     },
     "execution_count": 64,
     "metadata": {},
     "output_type": "execute_result"
    }
   ],
   "source": [
    "val.columns"
   ]
  },
  {
   "cell_type": "code",
   "execution_count": 69,
   "metadata": {},
   "outputs": [
    {
     "data": {
      "image/png": "[encoded data removed]",
      "text/plain": [
       "<Figure size 720x360 with 2 Axes>"
      ]
     },
     "metadata": {
      "needs_background": "light"
     },
     "output_type": "display_data"
    }
   ],
   "source": [
    "bt =  val[\"bin_activity\"].tolist() #binary true\n",
    "bp = val[\"clf_ex1_bin\"].tolist() #binary predicted\n",
    "proba = val[\"clf_ex1\"].tolist() #predicted y proba\n",
    "\n",
    "def roc_plot(ax, bt, yp):\n",
    "    fpr, tpr, _ = metrics.roc_curve(bt, yp)\n",
    "    ax.plot(fpr, tpr)\n",
    "    ax.grid()\n",
    "    ax.set_title(\"ROC AUC {0}\".format(round(metrics.auc(fpr, tpr), 3)))\n",
    "def confusion_plot(ax, bt, bp):\n",
    "    class_names = ['I (0)', 'A (1)']\n",
    "    disp = metrics.ConfusionMatrixDisplay(metrics.confusion_matrix(bt, bp), display_labels = class_names)\n",
    "    disp.plot(ax=ax, cmap=plt.cm.Greens, colorbar=False,)\n",
    "    for labels in disp.text_.ravel():\n",
    "        labels.set_fontsize(24)\n",
    "    ax.grid(False)\n",
    "    return ax\n",
    "\n",
    "\n",
    "fig, axs = plt.subplots(1,2, figsize=(10,5))\n",
    "axs = axs.flatten()\n",
    "ax = axs[0]\n",
    "roc_plot(ax, bt, proba)\n",
    "ax = axs[1]\n",
    "confusion_plot(ax, bt, bp)\n",
    "plt.tight_layout()"
   ]
  },
  {
   "cell_type": "code",
   "execution_count": 70,
   "metadata": {},
   "outputs": [
    {
     "data": {
      "text/plain": [
       "<matplotlib.collections.PathCollection at 0x213f547e7c8>"
      ]
     },
     "execution_count": 70,
     "metadata": {},
     "output_type": "execute_result"
    },
    {
     "data": {
      "image/png": "[encoded data removed]",
      "text/plain": [
       "<Figure size 432x288 with 1 Axes>"
      ]
     },
     "metadata": {
      "needs_background": "light"
     },
     "output_type": "display_data"
    }
   ],
   "source": [
    "yt = val[\"activity\"]\n",
    "yp = val[\"reg_raw\"]\n",
    "\n",
    "plt.scatter(yt, yp)"
   ]
  },
  {
   "cell_type": "code",
   "execution_count": 4,
   "metadata": {},
   "outputs": [],
   "source": [
    "# Take most real active molecules and best generated for a round of molmap\n",
    "osm = pd.read_csv(os.path.join(DATA, \"training_all.csv\"))\n",
    "eos = pd.read_csv(os.path.join(DATA, \"eosi_s4_candidates_90.csv\"))"
   ]
  },
  {
   "cell_type": "code",
   "execution_count": 10,
   "metadata": {},
   "outputs": [],
   "source": [
    "osm.sort_values(\"activity\", ascending=True, inplace =True)\n",
    "osm_sel = osm.head(90)"
   ]
  },
  {
   "cell_type": "code",
   "execution_count": 14,
   "metadata": {},
   "outputs": [
    {
     "name": "stderr",
     "output_type": "stream",
     "text": [
      "C:\\Users\\Gemma\\Anaconda3\\envs\\malariaOSM\\lib\\site-packages\\pandas\\core\\frame.py:4449: SettingWithCopyWarning: \n",
      "A value is trying to be set on a copy of a slice from a DataFrame\n",
      "\n",
      "See the caveats in the documentation: https://pandas.pydata.org/pandas-docs/stable/user_guide/indexing.html#returning-a-view-versus-a-copy\n",
      "  errors=errors,\n",
      "C:\\Users\\Gemma\\Anaconda3\\envs\\malariaOSM\\lib\\site-packages\\pandas\\core\\frame.py:4315: SettingWithCopyWarning: \n",
      "A value is trying to be set on a copy of a slice from a DataFrame\n",
      "\n",
      "See the caveats in the documentation: https://pandas.pydata.org/pandas-docs/stable/user_guide/indexing.html#returning-a-view-versus-a-copy\n",
      "  errors=errors,\n"
     ]
    }
   ],
   "source": [
    "osm_sel.rename(columns={\"osm\":\"id\"}, inplace=True)\n",
    "eos.rename(columns={\"EosId\":\"id\"}, inplace=True)\n",
    "eos.drop(columns=\"InchiKey\", inplace=True)\n",
    "osm_sel.drop(columns=\"activity\", inplace=True)"
   ]
  },
  {
   "cell_type": "code",
   "execution_count": 25,
   "metadata": {},
   "outputs": [],
   "source": [
    "actives = pd.concat([osm_sel, eos], ignore_index=True)\n",
    "actives.to_csv(os.path.join(DATA, \"high_actives.csv\"), index=False)"
   ]
  }
 ],
 "metadata": {
  "interpreter": {
   "hash": "e46e9dc16f0fb6ad18b4e5af2619d756acb959309a69c05b1a9bc8fb9da17bf9"
  },
  "kernelspec": {
   "display_name": "Python 3.7.10 ('malariaOSM')",
   "language": "python",
   "name": "python3"
  },
  "language_info": {
   "codemirror_mode": {
    "name": "ipython",
    "version": 3
   },
   "file_extension": ".py",
   "mimetype": "text/x-python",
   "name": "python",
   "nbconvert_exporter": "python",
   "pygments_lexer": "ipython3",
   "version": "3.7.10"
  },
  "orig_nbformat": 4
 },
 "nbformat": 4,
 "nbformat_minor": 2
}
